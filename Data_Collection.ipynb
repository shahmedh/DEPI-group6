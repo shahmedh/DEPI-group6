{
  "nbformat": 4,
  "nbformat_minor": 0,
  "metadata": {
    "colab": {
      "provenance": [],
      "authorship_tag": "ABX9TyPVQikrNZ1GKu8xJPVFbQt1",
      "include_colab_link": true
    },
    "kernelspec": {
      "name": "python3",
      "display_name": "Python 3"
    },
    "language_info": {
      "name": "python"
    }
  },
  "cells": [
    {
      "cell_type": "markdown",
      "metadata": {
        "id": "view-in-github",
        "colab_type": "text"
      },
      "source": [
        "<a href=\"https://colab.research.google.com/github/shahmedh/DEPI-group6/blob/main/Data_Collection.ipynb\" target=\"_parent\"><img src=\"https://colab.research.google.com/assets/colab-badge.svg\" alt=\"Open In Colab\"/></a>"
      ]
    },
    {
      "cell_type": "markdown",
      "source": [
        "**Task one:**"
      ],
      "metadata": {
        "id": "84dvAEUNLYZu"
      }
    },
    {
      "cell_type": "markdown",
      "source": [
        "# **Data Collection**\n",
        "\n",
        "1.   Download Sentinel-2 satellite images\n",
        "2.   Ensure the data includes multispectral images that capture various spectral bands\n",
        "\n"
      ],
      "metadata": {
        "id": "QqGOY291whGT"
      }
    },
    {
      "cell_type": "markdown",
      "source": [
        "**Installing and  Importing necessary packages**\n"
      ],
      "metadata": {
        "id": "-e9JHF6Muipp"
      }
    },
    {
      "cell_type": "code",
      "source": [
        "!pip install sentinelhub numpy geopandas shapely rasterio\n",
        "import requests\n",
        "from tqdm import tqdm\n",
        "import rasterio\n",
        "import numpy as np\n",
        "import matplotlib.pyplot as plt\n",
        "import zipfile\n",
        "import os\n"
      ],
      "metadata": {
        "colab": {
          "base_uri": "https://localhost:8080/"
        },
        "id": "YO1zCbyIr59y",
        "outputId": "564abd43-15bc-4cc0-8bf2-f626f9599081"
      },
      "execution_count": null,
      "outputs": [
        {
          "output_type": "stream",
          "name": "stdout",
          "text": [
            "Collecting sentinelhub\n",
            "  Downloading sentinelhub-3.11.1-py3-none-any.whl.metadata (10 kB)\n",
            "Requirement already satisfied: numpy in /usr/local/lib/python3.11/dist-packages (1.26.4)\n",
            "Requirement already satisfied: geopandas in /usr/local/lib/python3.11/dist-packages (1.0.1)\n",
            "Requirement already satisfied: shapely in /usr/local/lib/python3.11/dist-packages (2.0.7)\n",
            "Collecting rasterio\n",
            "  Downloading rasterio-1.4.3-cp311-cp311-manylinux_2_17_x86_64.manylinux2014_x86_64.whl.metadata (9.1 kB)\n",
            "Collecting aenum>=2.1.4 (from sentinelhub)\n",
            "  Downloading aenum-3.1.15-py3-none-any.whl.metadata (3.7 kB)\n",
            "Requirement already satisfied: click in /usr/local/lib/python3.11/dist-packages (from sentinelhub) (8.1.8)\n",
            "Collecting dataclasses-json (from sentinelhub)\n",
            "  Downloading dataclasses_json-0.6.7-py3-none-any.whl.metadata (25 kB)\n",
            "Requirement already satisfied: oauthlib in /usr/local/lib/python3.11/dist-packages (from sentinelhub) (3.2.2)\n",
            "Requirement already satisfied: pillow>=9.2.0 in /usr/local/lib/python3.11/dist-packages (from sentinelhub) (11.1.0)\n",
            "Requirement already satisfied: pyproj>=2.2.0 in /usr/local/lib/python3.11/dist-packages (from sentinelhub) (3.7.0)\n",
            "Requirement already satisfied: python-dateutil in /usr/local/lib/python3.11/dist-packages (from sentinelhub) (2.8.2)\n",
            "Requirement already satisfied: requests-oauthlib>=1.0.0 in /usr/local/lib/python3.11/dist-packages (from sentinelhub) (2.0.0)\n",
            "Requirement already satisfied: requests>=2.27.0 in /usr/local/lib/python3.11/dist-packages (from sentinelhub) (2.32.3)\n",
            "Requirement already satisfied: tifffile>=2020.9.30 in /usr/local/lib/python3.11/dist-packages (from sentinelhub) (2025.1.10)\n",
            "Collecting tomli (from sentinelhub)\n",
            "  Downloading tomli-2.2.1-cp311-cp311-manylinux_2_17_x86_64.manylinux2014_x86_64.whl.metadata (11 kB)\n",
            "Collecting tomli-w (from sentinelhub)\n",
            "  Downloading tomli_w-1.2.0-py3-none-any.whl.metadata (5.7 kB)\n",
            "Requirement already satisfied: tqdm in /usr/local/lib/python3.11/dist-packages (from sentinelhub) (4.67.1)\n",
            "Requirement already satisfied: typing-extensions>=4.5.0 in /usr/local/lib/python3.11/dist-packages (from sentinelhub) (4.12.2)\n",
            "Collecting utm (from sentinelhub)\n",
            "  Downloading utm-0.8.0.tar.gz (13 kB)\n",
            "  Preparing metadata (setup.py) ... \u001b[?25l\u001b[?25hdone\n",
            "Requirement already satisfied: pyogrio>=0.7.2 in /usr/local/lib/python3.11/dist-packages (from geopandas) (0.10.0)\n",
            "Requirement already satisfied: packaging in /usr/local/lib/python3.11/dist-packages (from geopandas) (24.2)\n",
            "Requirement already satisfied: pandas>=1.4.0 in /usr/local/lib/python3.11/dist-packages (from geopandas) (2.2.2)\n",
            "Collecting affine (from rasterio)\n",
            "  Downloading affine-2.4.0-py3-none-any.whl.metadata (4.0 kB)\n",
            "Requirement already satisfied: attrs in /usr/local/lib/python3.11/dist-packages (from rasterio) (25.1.0)\n",
            "Requirement already satisfied: certifi in /usr/local/lib/python3.11/dist-packages (from rasterio) (2025.1.31)\n",
            "Collecting cligj>=0.5 (from rasterio)\n",
            "  Downloading cligj-0.7.2-py3-none-any.whl.metadata (5.0 kB)\n",
            "Collecting click-plugins (from rasterio)\n",
            "  Downloading click_plugins-1.1.1-py2.py3-none-any.whl.metadata (6.4 kB)\n",
            "Requirement already satisfied: pyparsing in /usr/local/lib/python3.11/dist-packages (from rasterio) (3.2.1)\n",
            "Requirement already satisfied: pytz>=2020.1 in /usr/local/lib/python3.11/dist-packages (from pandas>=1.4.0->geopandas) (2025.1)\n",
            "Requirement already satisfied: tzdata>=2022.7 in /usr/local/lib/python3.11/dist-packages (from pandas>=1.4.0->geopandas) (2025.1)\n",
            "Requirement already satisfied: six>=1.5 in /usr/local/lib/python3.11/dist-packages (from python-dateutil->sentinelhub) (1.17.0)\n",
            "Requirement already satisfied: charset-normalizer<4,>=2 in /usr/local/lib/python3.11/dist-packages (from requests>=2.27.0->sentinelhub) (3.4.1)\n",
            "Requirement already satisfied: idna<4,>=2.5 in /usr/local/lib/python3.11/dist-packages (from requests>=2.27.0->sentinelhub) (3.10)\n",
            "Requirement already satisfied: urllib3<3,>=1.21.1 in /usr/local/lib/python3.11/dist-packages (from requests>=2.27.0->sentinelhub) (2.3.0)\n",
            "Collecting marshmallow<4.0.0,>=3.18.0 (from dataclasses-json->sentinelhub)\n",
            "  Downloading marshmallow-3.26.1-py3-none-any.whl.metadata (7.3 kB)\n",
            "Collecting typing-inspect<1,>=0.4.0 (from dataclasses-json->sentinelhub)\n",
            "  Downloading typing_inspect-0.9.0-py3-none-any.whl.metadata (1.5 kB)\n",
            "Collecting mypy-extensions>=0.3.0 (from typing-inspect<1,>=0.4.0->dataclasses-json->sentinelhub)\n",
            "  Downloading mypy_extensions-1.0.0-py3-none-any.whl.metadata (1.1 kB)\n",
            "Downloading sentinelhub-3.11.1-py3-none-any.whl (249 kB)\n",
            "\u001b[2K   \u001b[90m━━━━━━━━━━━━━━━━━━━━━━━━━━━━━━━━━━━━━━━━\u001b[0m \u001b[32m249.8/249.8 kB\u001b[0m \u001b[31m14.8 MB/s\u001b[0m eta \u001b[36m0:00:00\u001b[0m\n",
            "\u001b[?25hDownloading rasterio-1.4.3-cp311-cp311-manylinux_2_17_x86_64.manylinux2014_x86_64.whl (22.2 MB)\n",
            "\u001b[2K   \u001b[90m━━━━━━━━━━━━━━━━━━━━━━━━━━━━━━━━━━━━━━━━\u001b[0m \u001b[32m22.2/22.2 MB\u001b[0m \u001b[31m58.7 MB/s\u001b[0m eta \u001b[36m0:00:00\u001b[0m\n",
            "\u001b[?25hDownloading aenum-3.1.15-py3-none-any.whl (137 kB)\n",
            "\u001b[2K   \u001b[90m━━━━━━━━━━━━━━━━━━━━━━━━━━━━━━━━━━━━━━━━\u001b[0m \u001b[32m137.6/137.6 kB\u001b[0m \u001b[31m9.4 MB/s\u001b[0m eta \u001b[36m0:00:00\u001b[0m\n",
            "\u001b[?25hDownloading cligj-0.7.2-py3-none-any.whl (7.1 kB)\n",
            "Downloading affine-2.4.0-py3-none-any.whl (15 kB)\n",
            "Downloading click_plugins-1.1.1-py2.py3-none-any.whl (7.5 kB)\n",
            "Downloading dataclasses_json-0.6.7-py3-none-any.whl (28 kB)\n",
            "Downloading tomli-2.2.1-cp311-cp311-manylinux_2_17_x86_64.manylinux2014_x86_64.whl (236 kB)\n",
            "\u001b[2K   \u001b[90m━━━━━━━━━━━━━━━━━━━━━━━━━━━━━━━━━━━━━━━━\u001b[0m \u001b[32m236.0/236.0 kB\u001b[0m \u001b[31m16.1 MB/s\u001b[0m eta \u001b[36m0:00:00\u001b[0m\n",
            "\u001b[?25hDownloading tomli_w-1.2.0-py3-none-any.whl (6.7 kB)\n",
            "Downloading marshmallow-3.26.1-py3-none-any.whl (50 kB)\n",
            "\u001b[2K   \u001b[90m━━━━━━━━━━━━━━━━━━━━━━━━━━━━━━━━━━━━━━━━\u001b[0m \u001b[32m50.9/50.9 kB\u001b[0m \u001b[31m3.3 MB/s\u001b[0m eta \u001b[36m0:00:00\u001b[0m\n",
            "\u001b[?25hDownloading typing_inspect-0.9.0-py3-none-any.whl (8.8 kB)\n",
            "Downloading mypy_extensions-1.0.0-py3-none-any.whl (4.7 kB)\n",
            "Building wheels for collected packages: utm\n",
            "  Building wheel for utm (setup.py) ... \u001b[?25l\u001b[?25hdone\n",
            "  Created wheel for utm: filename=utm-0.8.0-py3-none-any.whl size=8536 sha256=6751cda0f1a474c2290cd3d7645ce3a91e53949d655ee6eeeab3f08ccab9597d\n",
            "  Stored in directory: /root/.cache/pip/wheels/b0/88/9b/1968d3a5933864f7d6312d8217027dd4d52b9647f678c67023\n",
            "Successfully built utm\n",
            "Installing collected packages: utm, aenum, tomli-w, tomli, mypy-extensions, marshmallow, cligj, click-plugins, affine, typing-inspect, rasterio, dataclasses-json, sentinelhub\n",
            "Successfully installed aenum-3.1.15 affine-2.4.0 click-plugins-1.1.1 cligj-0.7.2 dataclasses-json-0.6.7 marshmallow-3.26.1 mypy-extensions-1.0.0 rasterio-1.4.3 sentinelhub-3.11.1 tomli-2.2.1 tomli-w-1.2.0 typing-inspect-0.9.0 utm-0.8.0\n"
          ]
        }
      ]
    },
    {
      "cell_type": "markdown",
      "source": [
        "**Open a connection with the DATASPACE.COPERNICUS SERVER using Token URL, Username and Password**\n",
        "\n"
      ],
      "metadata": {
        "id": "WHYGOkJ-uvdJ"
      }
    },
    {
      "cell_type": "code",
      "source": [
        "import requests\n",
        "\n",
        "# Copernicus OAuth2 Token URL\n",
        "TOKEN_URL = \"https://identity.dataspace.copernicus.eu/auth/realms/CDSE/protocol/openid-connect/token\"\n",
        "\n",
        "# Replace with your Copernicus account credentials\n",
        "EMAIL = \"shaimaa.ahmed.business@gmail.com\"\n",
        "PASSWORD = \"DEPI2yth!!2025\"\n",
        "\n",
        "# Request payload\n",
        "payload = {\n",
        "    \"client_id\": \"cdse-public\",\n",
        "    \"username\": EMAIL,\n",
        "    \"password\": PASSWORD,\n",
        "    \"grant_type\": \"password\"\n",
        "}\n",
        "\n",
        "# Request token\n",
        "response = requests.post(TOKEN_URL, data=payload)\n",
        "\n",
        "# Extract token if request is successful\n",
        "if response.status_code == 200:\n",
        "    ACCESS_TOKEN = response.json().get(\"access_token\")\n",
        "    print(\"Access Token retrieved successfully!\")\n",
        "else:\n",
        "    print(f\"Error: {response.status_code}, {response.text}\")"
      ],
      "metadata": {
        "colab": {
          "base_uri": "https://localhost:8080/"
        },
        "id": "t6RFGrN84JP-",
        "outputId": "bf7cd063-114a-4b38-f27b-118c8910850f"
      },
      "execution_count": null,
      "outputs": [
        {
          "output_type": "stream",
          "name": "stdout",
          "text": [
            "Access Token retrieved successfully!\n"
          ]
        }
      ]
    },
    {
      "cell_type": "markdown",
      "source": [
        "# Downloading zipped data\n",
        "\n"
      ],
      "metadata": {
        "id": "bQEga9o9vIuJ"
      }
    },
    {
      "cell_type": "code",
      "source": [
        "##import requests\n",
        "##from tqdm import tqdm\n",
        "\n",
        "# Product download URL (Replace with your actual product URL)\n",
        "PRODUCT_URL = \"https://download.dataspace.copernicus.eu/odata/v1/Products(2fd9e578-5865-40e8-b3e9-0487d53011c3)/$value\"\n",
        "\n",
        "# Output file name\n",
        "output_file = \"Sentinel2_Image.zip\"\n",
        "\n",
        "# Set Authorization header\n",
        "headers = {\n",
        "    \"Authorization\": f\"Bearer {ACCESS_TOKEN}\"\n",
        "}\n",
        "\n",
        "# Download the file\n",
        "with requests.get(PRODUCT_URL, headers=headers, stream=True) as r:\n",
        "    r.raise_for_status()  # Check for request errors\n",
        "    total_size = int(r.headers.get('content-length', 0))\n",
        "    block_size = 1024  # 1 KB chunks\n",
        "    t = tqdm(total=total_size, unit=\"B\", unit_scale=True)\n",
        "\n",
        "    with open(output_file, \"wb\") as f:\n",
        "        for chunk in r.iter_content(chunk_size=block_size):\n",
        "            f.write(chunk)\n",
        "            t.update(len(chunk))\n",
        "\n",
        "print(f\"\\nDownload completed: {output_file}\")"
      ],
      "metadata": {
        "colab": {
          "base_uri": "https://localhost:8080/"
        },
        "id": "epNw8PMq4Uou",
        "outputId": "7a062105-eea0-4f11-c670-da2e32cb4a1c"
      },
      "execution_count": null,
      "outputs": [
        {
          "output_type": "stream",
          "name": "stderr",
          "text": [
            "100%|█████████▉| 1.25G/1.25G [10:51<00:00, 539kB/s]"
          ]
        },
        {
          "output_type": "stream",
          "name": "stdout",
          "text": [
            "\n",
            "Download completed: Sentinel2_Image.zip\n"
          ]
        }
      ]
    },
    {
      "cell_type": "markdown",
      "source": [
        "# **Ensure the data includes multispectral images that capture various spectral bands**\n"
      ],
      "metadata": {
        "id": "LVWhHjDf0ukN"
      }
    },
    {
      "cell_type": "code",
      "source": [
        "import rasterio\n",
        "import numpy as np\n",
        "import zipfile\n",
        "import os\n",
        "import gc\n",
        "\n",
        "# Clean RAM before execution\n",
        "gc.collect()\n",
        "\n",
        "# Step 1: Extract the Sentinel-2 zip file\n",
        "zip_file = \"Sentinel2_Image.zip\"\n",
        "extract_folder = \"Sentinel2_Data\"\n",
        "\n",
        "with zipfile.ZipFile(zip_file, 'r') as zip_ref:\n",
        "    zip_ref.extractall(extract_folder)\n",
        "\n",
        "# Step 2: Locate Sentinel-2 Bands\n",
        "band_files = {}\n",
        "band_names = {\n",
        "    \"B01\": \"Coastal Aerosol\",\n",
        "    \"B02\": \"Blue\",\n",
        "    \"B03\": \"Green\",\n",
        "    \"B04\": \"Red\",\n",
        "    \"B05\": \"Vegetation Red Edge 1\",\n",
        "    \"B06\": \"Vegetation Red Edge 2\",\n",
        "    \"B07\": \"Vegetation Red Edge 3\",\n",
        "    \"B08\": \"NIR\",\n",
        "    \"B8A\": \"Narrow NIR\",\n",
        "    \"B09\": \"Water Vapour\",\n",
        "    \"B10\": \"SWIR - Cirrus\",\n",
        "    \"B11\": \"SWIR 1\",\n",
        "    \"B12\": \"SWIR 2\"\n",
        "}\n",
        "\n",
        "for root, dirs, files in os.walk(extract_folder):\n",
        "    for file in files:\n",
        "        for band in band_names.keys():\n",
        "            if band in file and file.endswith(\".jp2\"):\n",
        "                band_files[band] = os.path.join(root, file)\n",
        "\n",
        "# Step 3: Read Sentinel-2 Bands\n",
        "def read_band(file_path):\n",
        "    with rasterio.open(file_path) as src:\n",
        "        return src.read(1).astype(np.float32)\n",
        "\n",
        "# Read all bands\n",
        "bands_data = {band: read_band(path) for band, path in band_files.items()}\n",
        "\n",
        "# Print band names and their symbols\n",
        "for band, description in band_names.items():\n",
        "    print(f\"{band}: {description}\")\n",
        "\n",
        "# Clean up memory\n",
        "del bands_data, band_files\n",
        "gc.collect()"
      ],
      "metadata": {
        "colab": {
          "base_uri": "https://localhost:8080/"
        },
        "id": "m8dVNKXf03qM",
        "outputId": "a14e3084-3423-4da0-e96b-b448fc10cd4c"
      },
      "execution_count": null,
      "outputs": [
        {
          "output_type": "stream",
          "name": "stderr",
          "text": [
            "\r100%|██████████| 1.25G/1.25G [11:10<00:00, 539kB/s]"
          ]
        },
        {
          "output_type": "stream",
          "name": "stdout",
          "text": [
            "B01: Coastal Aerosol\n",
            "B02: Blue\n",
            "B03: Green\n",
            "B04: Red\n",
            "B05: Vegetation Red Edge 1\n",
            "B06: Vegetation Red Edge 2\n",
            "B07: Vegetation Red Edge 3\n",
            "B08: NIR\n",
            "B8A: Narrow NIR\n",
            "B09: Water Vapour\n",
            "B10: SWIR - Cirrus\n",
            "B11: SWIR 1\n",
            "B12: SWIR 2\n"
          ]
        },
        {
          "output_type": "execute_result",
          "data": {
            "text/plain": [
              "0"
            ]
          },
          "metadata": {},
          "execution_count": 4
        }
      ]
    },
    {
      "cell_type": "markdown",
      "source": [
        "# **The notebook is crashed after this step so I redo the work again without enshuring the image has all bands**"
      ],
      "metadata": {
        "id": "vuPcl-w_dThC"
      }
    }
  ]
}